{
 "cells": [
  {
   "cell_type": "markdown",
   "metadata": {},
   "source": [
    "# PANDAS -- COT'D"
   ]
  },
  {
   "cell_type": "code",
   "execution_count": 24,
   "metadata": {},
   "outputs": [],
   "source": [
    "import pandas as pd\n",
    "import numpy as np"
   ]
  },
  {
   "cell_type": "markdown",
   "metadata": {},
   "source": [
    "Create custom function to use processeing df's:"
   ]
  },
  {
   "cell_type": "markdown",
   "metadata": {},
   "source": [
    "## PIPING & MAPPING"
   ]
  },
  {
   "cell_type": "code",
   "execution_count": 25,
   "metadata": {},
   "outputs": [],
   "source": [
    "def addr(el1, el2):\n",
    "    return el1 + el2a"
   ]
  },
  {
   "cell_type": "code",
   "execution_count": 26,
   "metadata": {},
   "outputs": [
    {
     "data": {
      "text/plain": [
       "6"
      ]
     },
     "execution_count": 26,
     "metadata": {},
     "output_type": "execute_result"
    }
   ],
   "source": [
    "addr(2,4)"
   ]
  },
  {
   "cell_type": "markdown",
   "metadata": {},
   "source": [
    "`pipe` will pipe all cells through _fn_"
   ]
  },
  {
   "cell_type": "code",
   "execution_count": 27,
   "metadata": {},
   "outputs": [
    {
     "data": {
      "text/html": [
       "<div>\n",
       "<style scoped>\n",
       "    .dataframe tbody tr th:only-of-type {\n",
       "        vertical-align: middle;\n",
       "    }\n",
       "\n",
       "    .dataframe tbody tr th {\n",
       "        vertical-align: top;\n",
       "    }\n",
       "\n",
       "    .dataframe thead th {\n",
       "        text-align: right;\n",
       "    }\n",
       "</style>\n",
       "<table border=\"1\" class=\"dataframe\">\n",
       "  <thead>\n",
       "    <tr style=\"text-align: right;\">\n",
       "      <th></th>\n",
       "      <th>col1</th>\n",
       "      <th>col2</th>\n",
       "    </tr>\n",
       "  </thead>\n",
       "  <tbody>\n",
       "    <tr>\n",
       "      <th>0</th>\n",
       "      <td>102</td>\n",
       "      <td>101</td>\n",
       "    </tr>\n",
       "    <tr>\n",
       "      <th>1</th>\n",
       "      <td>104</td>\n",
       "      <td>103</td>\n",
       "    </tr>\n",
       "    <tr>\n",
       "      <th>2</th>\n",
       "      <td>106</td>\n",
       "      <td>105</td>\n",
       "    </tr>\n",
       "    <tr>\n",
       "      <th>3</th>\n",
       "      <td>108</td>\n",
       "      <td>107</td>\n",
       "    </tr>\n",
       "    <tr>\n",
       "      <th>4</th>\n",
       "      <td>110</td>\n",
       "      <td>109</td>\n",
       "    </tr>\n",
       "  </tbody>\n",
       "</table>\n",
       "</div>"
      ],
      "text/plain": [
       "   col1  col2\n",
       "0   102   101\n",
       "1   104   103\n",
       "2   106   105\n",
       "3   108   107\n",
       "4   110   109"
      ]
     },
     "execution_count": 27,
     "metadata": {},
     "output_type": "execute_result"
    }
   ],
   "source": [
    "df = pd.DataFrame({'col1': [2,4,6,8,10], 'col2': [1,3,5,7,9]})\n",
    "df.pipe(addr, 100)"
   ]
  },
  {
   "cell_type": "markdown",
   "metadata": {},
   "source": [
    "Also use lambdas, even though python sucks at functional programming"
   ]
  },
  {
   "cell_type": "markdown",
   "metadata": {},
   "source": [
    "df.apply(lambda x: f'woot {x}!')"
   ]
  },
  {
   "cell_type": "markdown",
   "metadata": {},
   "source": [
    "`map` and `applymap` also work more or less as expected. `map` for series, `applymap` for the whole df matrix"
   ]
  },
  {
   "cell_type": "code",
   "execution_count": 30,
   "metadata": {},
   "outputs": [
    {
     "data": {
      "text/plain": [
       "0      4\n",
       "1     16\n",
       "2     36\n",
       "3     64\n",
       "4    100\n",
       "dtype: int64"
      ]
     },
     "execution_count": 30,
     "metadata": {},
     "output_type": "execute_result"
    }
   ],
   "source": [
    "s = pd.Series([2,4,6,8,10])\n",
    "s.map(lambda x: x**2)"
   ]
  },
  {
   "cell_type": "markdown",
   "metadata": {},
   "source": [
    "Works to create pipelines:"
   ]
  },
  {
   "cell_type": "code",
   "execution_count": 49,
   "metadata": {},
   "outputs": [
    {
     "name": "stdout",
     "output_type": "stream",
     "text": [
      "          0         1         2\n",
      "0  0.633890  0.239110  0.920154\n",
      "1  0.539429  0.429812  0.162327\n",
      "2  0.838172  0.150985  0.951643\n",
      "3  0.976483  0.762269  0.765549\n",
      "4  0.248653  0.385857  0.501840\n",
      "5  0.734799  0.546707  0.463533\n",
      "               0              1              2\n",
      "0  401816.826658   57173.698626  846682.924634\n",
      "1  290983.384934  184738.096054   26349.936037\n",
      "2  702533.118020   22796.330437  905624.153949\n",
      "3  953518.528603  581054.278964  586064.840641\n",
      "4   61828.425781  148885.752334  251842.972723\n",
      "5  539929.478891  298889.065966  214863.225113\n"
     ]
    }
   ],
   "source": [
    "df = pd.DataFrame(np.random.rand(6,3))\n",
    "remapped = df.applymap(lambda x: x*1000).applymap(lambda x: x**2)\n",
    "print(df)\n",
    "print(remapped)"
   ]
  },
  {
   "cell_type": "markdown",
   "metadata": {},
   "source": [
    "## REINDEXING"
   ]
  },
  {
   "cell_type": "markdown",
   "metadata": {},
   "source": [
    "Reindixing works to change the columns names of a data frame.\n",
    "\n",
    "You can use the structure of another data frame to define the oclumns names of your data frame.\n",
    "\n",
    "Missing columns will be added to the reindexed data frame, with NaN values."
   ]
  },
  {
   "cell_type": "code",
   "execution_count": null,
   "metadata": {},
   "outputs": [],
   "source": [
    "reindexed = remapped.reindex(index=[0,1,2])\n",
    "print(reindexed)"
   ]
  },
  {
   "cell_type": "code",
   "execution_count": 63,
   "metadata": {},
   "outputs": [
    {
     "name": "stdout",
     "output_type": "stream",
     "text": [
      "          A         B         C\n",
      "0  0.300634 -0.169127  0.704655\n",
      "1 -0.931712 -0.037198  1.410104\n",
      "2  1.107523  0.482154 -0.707348\n",
      "3  0.315614 -0.346014 -0.658430\n",
      "4 -0.450878  1.561257  0.642320\n",
      "5 -0.806351  1.046092 -0.029105\n",
      "6  1.832157  0.773136  0.517094\n",
      "7 -2.130670  0.729200 -0.975521\n",
      "8  0.890611  0.149242  1.454887\n",
      "9 -0.295555 -1.639139 -0.344170\n",
      "          A         Y         Z         C\n",
      "0  0.263268 -0.861715  0.781624  0.053748\n",
      "1  0.488605  0.401249  1.326551  0.893643\n",
      "2  0.268801 -0.221843 -0.000745  0.077228\n",
      "3 -0.731858 -0.185144  1.331920  0.626657\n",
      "4  1.132939  1.606025  0.949436  0.295891\n",
      "5 -0.591856 -0.695724  1.204060  0.665730\n",
      "6 -0.153472 -0.808662 -1.483313  0.383576\n",
      "7 -3.246947  0.044714  0.675657  0.057484\n",
      "8  0.881708  0.200123  0.038495  0.575606\n",
      "9  0.186121  0.025765 -1.268912  0.254138\n",
      "          A   Y   Z         C\n",
      "0  0.300634 NaN NaN  0.704655\n",
      "1 -0.931712 NaN NaN  1.410104\n",
      "2  1.107523 NaN NaN -0.707348\n",
      "3  0.315614 NaN NaN -0.658430\n",
      "4 -0.450878 NaN NaN  0.642320\n",
      "5 -0.806351 NaN NaN -0.029105\n",
      "6  1.832157 NaN NaN  0.517094\n",
      "7 -2.130670 NaN NaN -0.975521\n",
      "8  0.890611 NaN NaN  1.454887\n",
      "9 -0.295555 NaN NaN -0.344170\n"
     ]
    }
   ],
   "source": [
    "df1 = pd.DataFrame({'A': np.random.randn(10), 'B': np.random.randn(10), 'C': np.random.randn(10)})\n",
    "df2 = pd.DataFrame({'X': np.random.randn(10), 'Y': np.random.randn(10), 'Z': np.random.randn(10), 'C': np.random.rand(10)})\n",
    "df2.rename(columns={'X': 'A'}, inplace=True)\n",
    "df3 = df1.reindex_like(df2)\n",
    "print(df1)\n",
    "print(df2)\n",
    "print(df3)"
   ]
  },
  {
   "cell_type": "markdown",
   "metadata": {},
   "source": [
    "## Iteration"
   ]
  },
  {
   "cell_type": "markdown",
   "metadata": {},
   "source": [
    "### Column-wise over data frame"
   ]
  },
  {
   "cell_type": "code",
   "execution_count": 69,
   "metadata": {},
   "outputs": [
    {
     "name": "stdout",
     "output_type": "stream",
     "text": [
      "A\n",
      "---\n",
      "0    0.300634\n",
      "1   -0.931712\n",
      "2    1.107523\n",
      "3    0.315614\n",
      "4   -0.450878\n",
      "5   -0.806351\n",
      "6    1.832157\n",
      "7   -2.130670\n",
      "8    0.890611\n",
      "9   -0.295555\n",
      "Name: A, dtype: float64\n",
      "----------\n",
      "B\n",
      "---\n",
      "0   -0.169127\n",
      "1   -0.037198\n",
      "2    0.482154\n",
      "3   -0.346014\n",
      "4    1.561257\n",
      "5    1.046092\n",
      "6    0.773136\n",
      "7    0.729200\n",
      "8    0.149242\n",
      "9   -1.639139\n",
      "Name: B, dtype: float64\n",
      "----------\n",
      "C\n",
      "---\n",
      "0    0.704655\n",
      "1    1.410104\n",
      "2   -0.707348\n",
      "3   -0.658430\n",
      "4    0.642320\n",
      "5   -0.029105\n",
      "6    0.517094\n",
      "7   -0.975521\n",
      "8    1.454887\n",
      "9   -0.344170\n",
      "Name: C, dtype: float64\n",
      "----------\n"
     ]
    }
   ],
   "source": [
    "for col in df1:\n",
    "    print(col)\n",
    "    print('-'*3)\n",
    "    print(df1[col])\n",
    "    print('-'*10)"
   ]
  },
  {
   "cell_type": "markdown",
   "metadata": {},
   "source": [
    "### cellwise using `iteritems()`\n",
    "\n",
    "in the iteration below, `k` represents the column name, and `v` represents the list of values in that column"
   ]
  },
  {
   "cell_type": "code",
   "execution_count": 77,
   "metadata": {},
   "outputs": [
    {
     "name": "stdout",
     "output_type": "stream",
     "text": [
      "((((A))))\n",
      "v -->0    0.300634\n",
      "1   -0.931712\n",
      "2    1.107523\n",
      "3    0.315614\n",
      "4   -0.450878\n",
      "5   -0.806351\n",
      "6    1.832157\n",
      "7   -2.130670\n",
      "8    0.890611\n",
      "9   -0.295555\n",
      "Name: A, dtype: float64\n",
      "((((B))))\n",
      "v -->0   -0.169127\n",
      "1   -0.037198\n",
      "2    0.482154\n",
      "3   -0.346014\n",
      "4    1.561257\n",
      "5    1.046092\n",
      "6    0.773136\n",
      "7    0.729200\n",
      "8    0.149242\n",
      "9   -1.639139\n",
      "Name: B, dtype: float64\n",
      "((((C))))\n",
      "v -->0    0.704655\n",
      "1    1.410104\n",
      "2   -0.707348\n",
      "3   -0.658430\n",
      "4    0.642320\n",
      "5   -0.029105\n",
      "6    0.517094\n",
      "7   -0.975521\n",
      "8    1.454887\n",
      "9   -0.344170\n",
      "Name: C, dtype: float64\n"
     ]
    }
   ],
   "source": [
    "for k, v in df1.iteritems():\n",
    "    print(f'(((({k}))))')\n",
    "    print(f'v -->{v}')"
   ]
  },
  {
   "cell_type": "markdown",
   "metadata": {},
   "source": [
    "### iterate over rows with `iterrows()`"
   ]
  },
  {
   "cell_type": "code",
   "execution_count": 80,
   "metadata": {},
   "outputs": [
    {
     "name": "stdout",
     "output_type": "stream",
     "text": [
      "row 0\n",
      "A    0.300634\n",
      "B   -0.169127\n",
      "C    0.704655\n",
      "Name: 0, dtype: float64\n",
      "----------\n",
      "row 1\n",
      "A   -0.931712\n",
      "B   -0.037198\n",
      "C    1.410104\n",
      "Name: 1, dtype: float64\n",
      "----------\n",
      "row 2\n",
      "A    1.107523\n",
      "B    0.482154\n",
      "C   -0.707348\n",
      "Name: 2, dtype: float64\n",
      "----------\n",
      "row 3\n",
      "A    0.315614\n",
      "B   -0.346014\n",
      "C   -0.658430\n",
      "Name: 3, dtype: float64\n",
      "----------\n",
      "row 4\n",
      "A   -0.450878\n",
      "B    1.561257\n",
      "C    0.642320\n",
      "Name: 4, dtype: float64\n",
      "----------\n",
      "row 5\n",
      "A   -0.806351\n",
      "B    1.046092\n",
      "C   -0.029105\n",
      "Name: 5, dtype: float64\n",
      "----------\n",
      "row 6\n",
      "A    1.832157\n",
      "B    0.773136\n",
      "C    0.517094\n",
      "Name: 6, dtype: float64\n",
      "----------\n",
      "row 7\n",
      "A   -2.130670\n",
      "B    0.729200\n",
      "C   -0.975521\n",
      "Name: 7, dtype: float64\n",
      "----------\n",
      "row 8\n",
      "A    0.890611\n",
      "B    0.149242\n",
      "C    1.454887\n",
      "Name: 8, dtype: float64\n",
      "----------\n",
      "row 9\n",
      "A   -0.295555\n",
      "B   -1.639139\n",
      "C   -0.344170\n",
      "Name: 9, dtype: float64\n",
      "----------\n"
     ]
    }
   ],
   "source": [
    "for k,v in df1.iterrows():\n",
    "    print(f'row {k}')\n",
    "    print(f'{v}')\n",
    "    print('-'*10)"
   ]
  },
  {
   "cell_type": "markdown",
   "metadata": {},
   "source": [
    "### A Note\n",
    "Do _not_ modify the original dataframe while iterating, in-place modifications will be discarded"
   ]
  },
  {
   "cell_type": "markdown",
   "metadata": {},
   "source": [
    "## Sorting"
   ]
  },
  {
   "cell_type": "code",
   "execution_count": null,
   "metadata": {},
   "outputs": [],
   "source": []
  }
 ],
 "metadata": {
  "kernelspec": {
   "display_name": "Python 3",
   "language": "python",
   "name": "python3"
  },
  "language_info": {
   "codemirror_mode": {
    "name": "ipython",
    "version": 3
   },
   "file_extension": ".py",
   "mimetype": "text/x-python",
   "name": "python",
   "nbconvert_exporter": "python",
   "pygments_lexer": "ipython3",
   "version": "3.8.5"
  }
 },
 "nbformat": 4,
 "nbformat_minor": 4
}
